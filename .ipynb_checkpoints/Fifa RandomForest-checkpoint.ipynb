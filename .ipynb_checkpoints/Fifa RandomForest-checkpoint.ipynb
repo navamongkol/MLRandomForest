{
 "cells": [
  {
   "cell_type": "code",
   "execution_count": 30,
   "metadata": {},
   "outputs": [],
   "source": [
    "import numpy as np\n",
    "import pandas as pd\n",
    "import matplotlib.pyplot as plt\n",
    "from sklearn import datasets\n",
    "from sklearn.model_selection import train_test_split\n",
    "from sklearn.ensemble import RandomForestClassifier"
   ]
  },
  {
   "cell_type": "code",
   "execution_count": 34,
   "metadata": {},
   "outputs": [],
   "source": [
    "breast_ca = datasets.load_breast_cancer()"
   ]
  },
  {
   "cell_type": "code",
   "execution_count": 14,
   "metadata": {
    "collapsed": true
   },
   "outputs": [
    {
     "name": "stdout",
     "output_type": "stream",
     "text": [
      "dict_keys(['data', 'target', 'frame', 'target_names', 'DESCR', 'feature_names', 'filename'])\n",
      ".. _breast_cancer_dataset:\n",
      "\n",
      "Breast cancer wisconsin (diagnostic) dataset\n",
      "--------------------------------------------\n",
      "\n",
      "**Data Set Characteristics:**\n",
      "\n",
      "    :Number of Instances: 569\n",
      "\n",
      "    :Number of Attributes: 30 numeric, predictive attributes and the class\n",
      "\n",
      "    :Attribute Information:\n",
      "        - radius (mean of distances from center to points on the perimeter)\n",
      "        - texture (standard deviation of gray-scale values)\n",
      "        - perimeter\n",
      "        - area\n",
      "        - smoothness (local variation in radius lengths)\n",
      "        - compactness (perimeter^2 / area - 1.0)\n",
      "        - concavity (severity of concave portions of the contour)\n",
      "        - concave points (number of concave portions of the contour)\n",
      "        - symmetry\n",
      "        - fractal dimension (\"coastline approximation\" - 1)\n",
      "\n",
      "        The mean, standard error, and \"worst\" or largest (mean of the three\n",
      "        worst/largest values) of these features were computed for each image,\n",
      "        resulting in 30 features.  For instance, field 0 is Mean Radius, field\n",
      "        10 is Radius SE, field 20 is Worst Radius.\n",
      "\n",
      "        - class:\n",
      "                - WDBC-Malignant\n",
      "                - WDBC-Benign\n",
      "\n",
      "    :Summary Statistics:\n",
      "\n",
      "    ===================================== ====== ======\n",
      "                                           Min    Max\n",
      "    ===================================== ====== ======\n",
      "    radius (mean):                        6.981  28.11\n",
      "    texture (mean):                       9.71   39.28\n",
      "    perimeter (mean):                     43.79  188.5\n",
      "    area (mean):                          143.5  2501.0\n",
      "    smoothness (mean):                    0.053  0.163\n",
      "    compactness (mean):                   0.019  0.345\n",
      "    concavity (mean):                     0.0    0.427\n",
      "    concave points (mean):                0.0    0.201\n",
      "    symmetry (mean):                      0.106  0.304\n",
      "    fractal dimension (mean):             0.05   0.097\n",
      "    radius (standard error):              0.112  2.873\n",
      "    texture (standard error):             0.36   4.885\n",
      "    perimeter (standard error):           0.757  21.98\n",
      "    area (standard error):                6.802  542.2\n",
      "    smoothness (standard error):          0.002  0.031\n",
      "    compactness (standard error):         0.002  0.135\n",
      "    concavity (standard error):           0.0    0.396\n",
      "    concave points (standard error):      0.0    0.053\n",
      "    symmetry (standard error):            0.008  0.079\n",
      "    fractal dimension (standard error):   0.001  0.03\n",
      "    radius (worst):                       7.93   36.04\n",
      "    texture (worst):                      12.02  49.54\n",
      "    perimeter (worst):                    50.41  251.2\n",
      "    area (worst):                         185.2  4254.0\n",
      "    smoothness (worst):                   0.071  0.223\n",
      "    compactness (worst):                  0.027  1.058\n",
      "    concavity (worst):                    0.0    1.252\n",
      "    concave points (worst):               0.0    0.291\n",
      "    symmetry (worst):                     0.156  0.664\n",
      "    fractal dimension (worst):            0.055  0.208\n",
      "    ===================================== ====== ======\n",
      "\n",
      "    :Missing Attribute Values: None\n",
      "\n",
      "    :Class Distribution: 212 - Malignant, 357 - Benign\n",
      "\n",
      "    :Creator:  Dr. William H. Wolberg, W. Nick Street, Olvi L. Mangasarian\n",
      "\n",
      "    :Donor: Nick Street\n",
      "\n",
      "    :Date: November, 1995\n",
      "\n",
      "This is a copy of UCI ML Breast Cancer Wisconsin (Diagnostic) datasets.\n",
      "https://goo.gl/U2Uwz2\n",
      "\n",
      "Features are computed from a digitized image of a fine needle\n",
      "aspirate (FNA) of a breast mass.  They describe\n",
      "characteristics of the cell nuclei present in the image.\n",
      "\n",
      "Separating plane described above was obtained using\n",
      "Multisurface Method-Tree (MSM-T) [K. P. Bennett, \"Decision Tree\n",
      "Construction Via Linear Programming.\" Proceedings of the 4th\n",
      "Midwest Artificial Intelligence and Cognitive Science Society,\n",
      "pp. 97-101, 1992], a classification method which uses linear\n",
      "programming to construct a decision tree.  Relevant features\n",
      "were selected using an exhaustive search in the space of 1-4\n",
      "features and 1-3 separating planes.\n",
      "\n",
      "The actual linear program used to obtain the separating plane\n",
      "in the 3-dimensional space is that described in:\n",
      "[K. P. Bennett and O. L. Mangasarian: \"Robust Linear\n",
      "Programming Discrimination of Two Linearly Inseparable Sets\",\n",
      "Optimization Methods and Software 1, 1992, 23-34].\n",
      "\n",
      "This database is also available through the UW CS ftp server:\n",
      "\n",
      "ftp ftp.cs.wisc.edu\n",
      "cd math-prog/cpo-dataset/machine-learn/WDBC/\n",
      "\n",
      ".. topic:: References\n",
      "\n",
      "   - W.N. Street, W.H. Wolberg and O.L. Mangasarian. Nuclear feature extraction \n",
      "     for breast tumor diagnosis. IS&T/SPIE 1993 International Symposium on \n",
      "     Electronic Imaging: Science and Technology, volume 1905, pages 861-870,\n",
      "     San Jose, CA, 1993.\n",
      "   - O.L. Mangasarian, W.N. Street and W.H. Wolberg. Breast cancer diagnosis and \n",
      "     prognosis via linear programming. Operations Research, 43(4), pages 570-577, \n",
      "     July-August 1995.\n",
      "   - W.H. Wolberg, W.N. Street, and O.L. Mangasarian. Machine learning techniques\n",
      "     to diagnose breast cancer from fine-needle aspirates. Cancer Letters 77 (1994) \n",
      "     163-171.\n",
      "['mean radius' 'mean texture' 'mean perimeter' 'mean area'\n",
      " 'mean smoothness' 'mean compactness' 'mean concavity'\n",
      " 'mean concave points' 'mean symmetry' 'mean fractal dimension'\n",
      " 'radius error' 'texture error' 'perimeter error' 'area error'\n",
      " 'smoothness error' 'compactness error' 'concavity error'\n",
      " 'concave points error' 'symmetry error' 'fractal dimension error'\n",
      " 'worst radius' 'worst texture' 'worst perimeter' 'worst area'\n",
      " 'worst smoothness' 'worst compactness' 'worst concavity'\n",
      " 'worst concave points' 'worst symmetry' 'worst fractal dimension']\n",
      "['malignant' 'benign']\n"
     ]
    }
   ],
   "source": [
    "print(breast_ca.keys())\n",
    "print(breast_ca[\"DESCR\"])\n",
    "print(breast_ca[\"feature_names\"])\n",
    "print(breast_ca[\"target_names\"])\n"
   ]
  },
  {
   "cell_type": "code",
   "execution_count": 29,
   "metadata": {},
   "outputs": [],
   "source": [
    "X = breast_ca.data\n",
    "y = breast_ca.target\n",
    "X_train, X_test, y_train, y_test = train_test_split(X,y,test_size=0.2)"
   ]
  },
  {
   "cell_type": "code",
   "execution_count": 20,
   "metadata": {},
   "outputs": [],
   "source": [
    "rforest_clf = RandomForestClassifier().fit(X_train, y_train)"
   ]
  },
  {
   "cell_type": "code",
   "execution_count": 22,
   "metadata": {},
   "outputs": [
    {
     "name": "stdout",
     "output_type": "stream",
     "text": [
      "For Random Forest model:\n",
      "Train set accuracy = 1.0\n",
      "Test set accuracy = 0.9824561403508771\n",
      "\n",
      "Importance of each feature:\n",
      " [0.03714016 0.01311396 0.04666106 0.05869095 0.00468607 0.00919436\n",
      " 0.05442898 0.08748002 0.00580059 0.00463306 0.01007536 0.00802121\n",
      " 0.00813724 0.03974936 0.00483903 0.0065589  0.00502451 0.00853711\n",
      " 0.00377446 0.00395669 0.08720536 0.02340083 0.10672768 0.15786925\n",
      " 0.01097877 0.01167318 0.02769204 0.13384642 0.01340092 0.00670248]\n"
     ]
    }
   ],
   "source": [
    "print(\"For Random Forest model:\")\n",
    "print(\"Train set accuracy = \" + str(rforest_clf.score(X_train, y_train)))\n",
    "print(\"Test set accuracy = \" + str(rforest_clf.score(X_test, y_test)))\n",
    "print(\"\\nImportance of each feature:\\n\", rforest_clf.feature_importances_)"
   ]
  },
  {
   "cell_type": "code",
   "execution_count": 25,
   "metadata": {},
   "outputs": [
    {
     "name": "stdout",
     "output_type": "stream",
     "text": [
      "[[ 0.1471  25.38   ]\n",
      " [ 0.07017 24.99   ]\n",
      " [ 0.1279  23.57   ]]\n"
     ]
    }
   ],
   "source": [
    "X_selected = breast_ca.data[:, [7,20]]\n",
    "print(X_selected[:3, :])"
   ]
  },
  {
   "cell_type": "code",
   "execution_count": 246,
   "metadata": {},
   "outputs": [],
   "source": [
    "fifa = pd.read_csv('/Users/navamongkoltongta/.kaggle/fifa19/data.csv')"
   ]
  },
  {
   "cell_type": "code",
   "execution_count": 286,
   "metadata": {},
   "outputs": [],
   "source": [
    "fifa.loc[fifa['Overall']>70, 'Level'] = 2\n",
    "fifa.loc[fifa['Overall']<=70, 'Level'] = 1"
   ]
  },
  {
   "cell_type": "code",
   "execution_count": 287,
   "metadata": {},
   "outputs": [
    {
     "data": {
      "text/plain": [
       "Index(['Unnamed: 0', 'ID', 'Name', 'Age', 'Photo', 'Nationality', 'Flag',\n",
       "       'Overall', 'Potential', 'Club', 'Club Logo', 'Value', 'Wage', 'Special',\n",
       "       'Preferred Foot', 'International Reputation', 'Weak Foot',\n",
       "       'Skill Moves', 'Work Rate', 'Body Type', 'Real Face', 'Position',\n",
       "       'Jersey Number', 'Joined', 'Loaned From', 'Contract Valid Until',\n",
       "       'Height', 'Weight', 'LS', 'ST', 'RS', 'LW', 'LF', 'CF', 'RF', 'RW',\n",
       "       'LAM', 'CAM', 'RAM', 'LM', 'LCM', 'CM', 'RCM', 'RM', 'LWB', 'LDM',\n",
       "       'CDM', 'RDM', 'RWB', 'LB', 'LCB', 'CB', 'RCB', 'RB', 'Crossing',\n",
       "       'Finishing', 'HeadingAccuracy', 'ShortPassing', 'Volleys', 'Dribbling',\n",
       "       'Curve', 'FKAccuracy', 'LongPassing', 'BallControl', 'Acceleration',\n",
       "       'SprintSpeed', 'Agility', 'Reactions', 'Balance', 'ShotPower',\n",
       "       'Jumping', 'Stamina', 'Strength', 'LongShots', 'Aggression',\n",
       "       'Interceptions', 'Positioning', 'Vision', 'Penalties', 'Composure',\n",
       "       'Marking', 'StandingTackle', 'SlidingTackle', 'GKDiving', 'GKHandling',\n",
       "       'GKKicking', 'GKPositioning', 'GKReflexes', 'Release Clause', 'Level'],\n",
       "      dtype='object')"
      ]
     },
     "execution_count": 287,
     "metadata": {},
     "output_type": "execute_result"
    }
   ],
   "source": [
    "fifa.columns"
   ]
  },
  {
   "cell_type": "code",
   "execution_count": 288,
   "metadata": {},
   "outputs": [],
   "source": [
    "fifa.dropna(subset=['Composure'], inplace=True)"
   ]
  },
  {
   "cell_type": "code",
   "execution_count": 303,
   "metadata": {},
   "outputs": [],
   "source": [
    "fifa_data = fifa[[\n",
    "       'Finishing', 'HeadingAccuracy', 'ShortPassing', 'Volleys', 'Dribbling',\n",
    "       'Curve', 'FKAccuracy', 'LongPassing', 'BallControl', 'Acceleration',\n",
    "       'SprintSpeed', 'Agility', 'Reactions', 'Balance', 'ShotPower',\n",
    "       'Jumping', 'Stamina', 'Strength', 'LongShots', 'Aggression',\n",
    "       'Interceptions', 'Positioning', 'Vision', 'Penalties', 'Composure',\n",
    "       'Marking', 'StandingTackle', 'SlidingTackle', 'GKDiving', 'GKHandling',\n",
    "       'GKKicking', 'GKPositioning', 'GKReflexes']]\n",
    "fifa_target = fifa[['Level']]"
   ]
  },
  {
   "cell_type": "code",
   "execution_count": 304,
   "metadata": {},
   "outputs": [
    {
     "data": {
      "text/plain": [
       "Level    18159\n",
       "dtype: int64"
      ]
     },
     "execution_count": 304,
     "metadata": {},
     "output_type": "execute_result"
    }
   ],
   "source": [
    "fifa_target.count()"
   ]
  },
  {
   "cell_type": "code",
   "execution_count": 305,
   "metadata": {},
   "outputs": [
    {
     "data": {
      "text/plain": [
       "Finishing          18159\n",
       "HeadingAccuracy    18159\n",
       "ShortPassing       18159\n",
       "Volleys            18159\n",
       "Dribbling          18159\n",
       "Curve              18159\n",
       "FKAccuracy         18159\n",
       "LongPassing        18159\n",
       "BallControl        18159\n",
       "Acceleration       18159\n",
       "SprintSpeed        18159\n",
       "Agility            18159\n",
       "Reactions          18159\n",
       "Balance            18159\n",
       "ShotPower          18159\n",
       "Jumping            18159\n",
       "Stamina            18159\n",
       "Strength           18159\n",
       "LongShots          18159\n",
       "Aggression         18159\n",
       "Interceptions      18159\n",
       "Positioning        18159\n",
       "Vision             18159\n",
       "Penalties          18159\n",
       "Composure          18159\n",
       "Marking            18159\n",
       "StandingTackle     18159\n",
       "SlidingTackle      18159\n",
       "GKDiving           18159\n",
       "GKHandling         18159\n",
       "GKKicking          18159\n",
       "GKPositioning      18159\n",
       "GKReflexes         18159\n",
       "dtype: int64"
      ]
     },
     "execution_count": 305,
     "metadata": {},
     "output_type": "execute_result"
    }
   ],
   "source": [
    "fifa_data.count()"
   ]
  },
  {
   "cell_type": "code",
   "execution_count": 306,
   "metadata": {},
   "outputs": [],
   "source": [
    "X_train, X_test, y_train, y_test = train_test_split(fifa_data,fifa_target,test_size=0.3)"
   ]
  },
  {
   "cell_type": "code",
   "execution_count": 307,
   "metadata": {},
   "outputs": [
    {
     "name": "stderr",
     "output_type": "stream",
     "text": [
      "<ipython-input-307-2f07da94a366>:1: DataConversionWarning: A column-vector y was passed when a 1d array was expected. Please change the shape of y to (n_samples,), for example using ravel().\n",
      "  rforest_clf = RandomForestClassifier().fit(X_train, y_train)\n"
     ]
    }
   ],
   "source": [
    "rforest_clf = RandomForestClassifier().fit(X_train, y_train)"
   ]
  },
  {
   "cell_type": "code",
   "execution_count": 308,
   "metadata": {},
   "outputs": [
    {
     "name": "stdout",
     "output_type": "stream",
     "text": [
      "For Random Forest model:\n",
      "Train set accuracy = 1.0\n",
      "Test set accuracy = 0.9651248164464024\n",
      "\n",
      "Importance of each feature:\n",
      " [0.02631894 0.02450747 0.0828003  0.01011868 0.04654791 0.01141106\n",
      " 0.00661632 0.02008642 0.07371175 0.01022448 0.01125212 0.00693578\n",
      " 0.15776603 0.00624199 0.01998924 0.0067776  0.00989242 0.01019087\n",
      " 0.01907169 0.01323896 0.04901007 0.03918931 0.03044919 0.00765748\n",
      " 0.08269182 0.03364475 0.05568264 0.04005888 0.0204786  0.02070292\n",
      " 0.00757401 0.02224089 0.01691937]\n"
     ]
    }
   ],
   "source": [
    "print(\"For Random Forest model:\")\n",
    "print(\"Train set accuracy = \" + str(rforest_clf.score(X_train, y_train)))\n",
    "print(\"Test set accuracy = \" + str(rforest_clf.score(X_test, y_test)))\n",
    "print(\"\\nImportance of each feature:\\n\", rforest_clf.feature_importances_)"
   ]
  },
  {
   "cell_type": "code",
   "execution_count": 309,
   "metadata": {},
   "outputs": [
    {
     "data": {
      "text/html": [
       "<div>\n",
       "<style scoped>\n",
       "    .dataframe tbody tr th:only-of-type {\n",
       "        vertical-align: middle;\n",
       "    }\n",
       "\n",
       "    .dataframe tbody tr th {\n",
       "        vertical-align: top;\n",
       "    }\n",
       "\n",
       "    .dataframe thead th {\n",
       "        text-align: right;\n",
       "    }\n",
       "</style>\n",
       "<table border=\"1\" class=\"dataframe\">\n",
       "  <thead>\n",
       "    <tr style=\"text-align: right;\">\n",
       "      <th></th>\n",
       "      <th>BallControl</th>\n",
       "      <th>Reactions</th>\n",
       "    </tr>\n",
       "  </thead>\n",
       "  <tbody>\n",
       "    <tr>\n",
       "      <th>0</th>\n",
       "      <td>96.0</td>\n",
       "      <td>95.0</td>\n",
       "    </tr>\n",
       "    <tr>\n",
       "      <th>1</th>\n",
       "      <td>94.0</td>\n",
       "      <td>96.0</td>\n",
       "    </tr>\n",
       "    <tr>\n",
       "      <th>2</th>\n",
       "      <td>95.0</td>\n",
       "      <td>94.0</td>\n",
       "    </tr>\n",
       "    <tr>\n",
       "      <th>3</th>\n",
       "      <td>42.0</td>\n",
       "      <td>90.0</td>\n",
       "    </tr>\n",
       "    <tr>\n",
       "      <th>4</th>\n",
       "      <td>91.0</td>\n",
       "      <td>91.0</td>\n",
       "    </tr>\n",
       "    <tr>\n",
       "      <th>...</th>\n",
       "      <td>...</td>\n",
       "      <td>...</td>\n",
       "    </tr>\n",
       "    <tr>\n",
       "      <th>18202</th>\n",
       "      <td>43.0</td>\n",
       "      <td>49.0</td>\n",
       "    </tr>\n",
       "    <tr>\n",
       "      <th>18203</th>\n",
       "      <td>40.0</td>\n",
       "      <td>40.0</td>\n",
       "    </tr>\n",
       "    <tr>\n",
       "      <th>18204</th>\n",
       "      <td>44.0</td>\n",
       "      <td>47.0</td>\n",
       "    </tr>\n",
       "    <tr>\n",
       "      <th>18205</th>\n",
       "      <td>52.0</td>\n",
       "      <td>21.0</td>\n",
       "    </tr>\n",
       "    <tr>\n",
       "      <th>18206</th>\n",
       "      <td>51.0</td>\n",
       "      <td>51.0</td>\n",
       "    </tr>\n",
       "  </tbody>\n",
       "</table>\n",
       "<p>18159 rows × 2 columns</p>\n",
       "</div>"
      ],
      "text/plain": [
       "       BallControl  Reactions\n",
       "0             96.0       95.0\n",
       "1             94.0       96.0\n",
       "2             95.0       94.0\n",
       "3             42.0       90.0\n",
       "4             91.0       91.0\n",
       "...            ...        ...\n",
       "18202         43.0       49.0\n",
       "18203         40.0       40.0\n",
       "18204         44.0       47.0\n",
       "18205         52.0       21.0\n",
       "18206         51.0       51.0\n",
       "\n",
       "[18159 rows x 2 columns]"
      ]
     },
     "execution_count": 309,
     "metadata": {},
     "output_type": "execute_result"
    }
   ],
   "source": [
    "X_selected = fifa_data.iloc[:, [8,12]]\n",
    "X_selected\n",
    "# print(X_selected.iloc[:3, :])"
   ]
  },
  {
   "cell_type": "code",
   "execution_count": 319,
   "metadata": {},
   "outputs": [
    {
     "name": "stderr",
     "output_type": "stream",
     "text": [
      "<ipython-input-319-ce1bcabc7d88>:5: DataConversionWarning: A column-vector y was passed when a 1d array was expected. Please change the shape of y to (n_samples,), for example using ravel().\n",
      "  rforest_clf = RandomForestClassifier(n_estimators=50).fit(X_train_select, y_train)\n"
     ]
    },
    {
     "name": "stdout",
     "output_type": "stream",
     "text": [
      "For Random Forest model (with selected X):\n",
      "Train set accuracy = 0.9154122916513694\n",
      "Test set accuracy = 0.8876651982378855\n"
     ]
    }
   ],
   "source": [
    "# Split the selected data into train and test set\n",
    "X_train_select, X_test_select, y_train, y_test = train_test_split(X_selected, fifa_target, random_state=42)\n",
    "\n",
    "# Train and fit the model: decision tree\n",
    "rforest_clf = RandomForestClassifier(n_estimators=50).fit(X_train_select, y_train)\n",
    "\n",
    "# Evaluate the model's accuracy\n",
    "print(\"For Random Forest model (with selected X):\")\n",
    "print(\"Train set accuracy = \" + str(rforest_clf.score(X_train_select, y_train)))\n",
    "print(\"Test set accuracy = \" + str(rforest_clf.score(X_test_select, y_test)))"
   ]
  },
  {
   "cell_type": "code",
   "execution_count": 320,
   "metadata": {},
   "outputs": [
    {
     "data": {
      "text/plain": [
       "array([2., 1., 1., ..., 1., 2., 1.])"
      ]
     },
     "execution_count": 320,
     "metadata": {},
     "output_type": "execute_result"
    }
   ],
   "source": [
    "rforest_clf.predict(X_train_select)"
   ]
  },
  {
   "cell_type": "code",
   "execution_count": 321,
   "metadata": {},
   "outputs": [
    {
     "data": {
      "text/html": [
       "<div>\n",
       "<style scoped>\n",
       "    .dataframe tbody tr th:only-of-type {\n",
       "        vertical-align: middle;\n",
       "    }\n",
       "\n",
       "    .dataframe tbody tr th {\n",
       "        vertical-align: top;\n",
       "    }\n",
       "\n",
       "    .dataframe thead th {\n",
       "        text-align: right;\n",
       "    }\n",
       "</style>\n",
       "<table border=\"1\" class=\"dataframe\">\n",
       "  <thead>\n",
       "    <tr style=\"text-align: right;\">\n",
       "      <th></th>\n",
       "      <th>BallControl</th>\n",
       "      <th>Reactions</th>\n",
       "    </tr>\n",
       "  </thead>\n",
       "  <tbody>\n",
       "    <tr>\n",
       "      <th>2694</th>\n",
       "      <td>71.0</td>\n",
       "      <td>74.0</td>\n",
       "    </tr>\n",
       "    <tr>\n",
       "      <th>15486</th>\n",
       "      <td>12.0</td>\n",
       "      <td>56.0</td>\n",
       "    </tr>\n",
       "    <tr>\n",
       "      <th>15606</th>\n",
       "      <td>58.0</td>\n",
       "      <td>58.0</td>\n",
       "    </tr>\n",
       "    <tr>\n",
       "      <th>4610</th>\n",
       "      <td>71.0</td>\n",
       "      <td>70.0</td>\n",
       "    </tr>\n",
       "    <tr>\n",
       "      <th>11626</th>\n",
       "      <td>64.0</td>\n",
       "      <td>64.0</td>\n",
       "    </tr>\n",
       "    <tr>\n",
       "      <th>...</th>\n",
       "      <td>...</td>\n",
       "      <td>...</td>\n",
       "    </tr>\n",
       "    <tr>\n",
       "      <th>11284</th>\n",
       "      <td>62.0</td>\n",
       "      <td>61.0</td>\n",
       "    </tr>\n",
       "    <tr>\n",
       "      <th>11964</th>\n",
       "      <td>66.0</td>\n",
       "      <td>51.0</td>\n",
       "    </tr>\n",
       "    <tr>\n",
       "      <th>5390</th>\n",
       "      <td>72.0</td>\n",
       "      <td>66.0</td>\n",
       "    </tr>\n",
       "    <tr>\n",
       "      <th>860</th>\n",
       "      <td>80.0</td>\n",
       "      <td>77.0</td>\n",
       "    </tr>\n",
       "    <tr>\n",
       "      <th>15843</th>\n",
       "      <td>70.0</td>\n",
       "      <td>55.0</td>\n",
       "    </tr>\n",
       "  </tbody>\n",
       "</table>\n",
       "<p>13619 rows × 2 columns</p>\n",
       "</div>"
      ],
      "text/plain": [
       "       BallControl  Reactions\n",
       "2694          71.0       74.0\n",
       "15486         12.0       56.0\n",
       "15606         58.0       58.0\n",
       "4610          71.0       70.0\n",
       "11626         64.0       64.0\n",
       "...            ...        ...\n",
       "11284         62.0       61.0\n",
       "11964         66.0       51.0\n",
       "5390          72.0       66.0\n",
       "860           80.0       77.0\n",
       "15843         70.0       55.0\n",
       "\n",
       "[13619 rows x 2 columns]"
      ]
     },
     "execution_count": 321,
     "metadata": {},
     "output_type": "execute_result"
    }
   ],
   "source": [
    "X_train_select"
   ]
  },
  {
   "cell_type": "code",
   "execution_count": null,
   "metadata": {},
   "outputs": [],
   "source": []
  }
 ],
 "metadata": {
  "kernelspec": {
   "display_name": "Python 3",
   "language": "python",
   "name": "python3"
  },
  "language_info": {
   "codemirror_mode": {
    "name": "ipython",
    "version": 3
   },
   "file_extension": ".py",
   "mimetype": "text/x-python",
   "name": "python",
   "nbconvert_exporter": "python",
   "pygments_lexer": "ipython3",
   "version": "3.8.5"
  }
 },
 "nbformat": 4,
 "nbformat_minor": 4
}
